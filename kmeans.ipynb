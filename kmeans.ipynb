{
 "cells": [
  {
   "cell_type": "code",
   "execution_count": 1,
   "metadata": {},
   "outputs": [],
   "source": [
    "import numpy as np\n",
    "import csv\n",
    "import jieba\n",
    "from sklearn.feature_extraction.text import TfidfVectorizer\n",
    "from sklearn.cluster import KMeans\n",
    "import json\n",
    "import time"
   ]
  },
  {
   "cell_type": "code",
   "execution_count": 2,
   "metadata": {},
   "outputs": [],
   "source": [
    "def jieba_tokenize(text):\n",
    "    return jieba.lcut(text)"
   ]
  },
  {
   "cell_type": "code",
   "execution_count": 4,
   "metadata": {},
   "outputs": [],
   "source": [
    "sourceData = csv.reader(open('./dataset/dataProcessed.csv', encoding='utf-8'))\n",
    "\n",
    "textList = []\n",
    "length= 0\n",
    "for row in sourceData:\n",
    "    if(length == 0):\n",
    "        length = 1\n",
    "    else:\n",
    "        del row[0]\n",
    "        del row[3]\n",
    "        row = str(row).replace(',', ' ')\n",
    "        textList.append(row)"
   ]
  },
  {
   "cell_type": "code",
   "execution_count": 6,
   "metadata": {},
   "outputs": [
    {
     "name": "stderr",
     "output_type": "stream",
     "text": [
      "Building prefix dict from the default dictionary ...\n",
      "Loading model from cache /var/folders/q1/g6hkbx9j47s9mwgqt3hh9c4r0000gn/T/jieba.cache\n",
      "Loading model cost 1.550 seconds.\n",
      "Prefix dict has been built succesfully.\n"
     ]
    }
   ],
   "source": [
    "tfidf_vectorizer = TfidfVectorizer(tokenizer=jieba_tokenize, lowercase=False)\n",
    "tfidf_matrix = tfidf_vectorizer.fit_transform(textList)\n",
    "\n",
    "km_cluster = KMeans(n_clusters=3, max_iter=300, n_init=40, init='k-means++', n_jobs=-1)\n",
    "result= km_cluster.fit_predict(tfidf_matrix)"
   ]
  },
  {
   "cell_type": "code",
   "execution_count": 7,
   "metadata": {},
   "outputs": [],
   "source": [
    "def getEulerDistancesMatrix(vectors):\n",
    "    m, n = vectors.shape\n",
    "    matrix = np.zeros((m, m)) ;\n",
    "    for i in range(m):\n",
    "        for j in range(m):\n",
    "            distance = 0;\n",
    "            for k in range(n):\n",
    "                distance += (vectors[i, k] - vectors[j, k]) * (vectors[i, k] - vectors[j, k]);\n",
    "                distance = np.sqrt(distance);\n",
    "                matrix[i, j] = matrix[j, i] = distance;\n",
    "                \n",
    "    return matrix;"
   ]
  },
  {
   "cell_type": "code",
   "execution_count": 8,
   "metadata": {},
   "outputs": [],
   "source": [
    "def store(data):\n",
    "    with open('./out.json', 'w') as json_file:\n",
    "        json_file.write(json.dumps(data))"
   ]
  },
  {
   "cell_type": "code",
   "execution_count": null,
   "metadata": {},
   "outputs": [],
   "source": [
    "print(\"calulate distance\")\n",
    "    distance = getEulerDistancesMatrix(tfidf_matrix)\n",
    "    out = {'matrix': distance.tolist(),\n",
    "            'result': result.tolist()}\n",
    "    print(out)\n",
    "    store(out)"
   ]
  }
 ],
 "metadata": {
  "kernelspec": {
   "display_name": "Python 3",
   "language": "python",
   "name": "python3"
  },
  "language_info": {
   "codemirror_mode": {
    "name": "ipython",
    "version": 3
   },
   "file_extension": ".py",
   "mimetype": "text/x-python",
   "name": "python",
   "nbconvert_exporter": "python",
   "pygments_lexer": "ipython3",
   "version": "3.4.3"
  }
 },
 "nbformat": 4,
 "nbformat_minor": 2
}
